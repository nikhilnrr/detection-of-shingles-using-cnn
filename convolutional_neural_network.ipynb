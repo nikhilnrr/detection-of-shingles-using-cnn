{
  "cells": [
    {
      "cell_type": "code",
      "execution_count": 19,
      "metadata": {
        "colab": {},
        "colab_type": "code",
        "id": "sCV30xyVhFbE"
      },
      "outputs": [],
      "source": [
        "import tensorflow as tf\n",
        "from keras.preprocessing.image import ImageDataGenerator"
      ]
    },
    {
      "cell_type": "code",
      "execution_count": 20,
      "metadata": {
        "colab": {},
        "colab_type": "code",
        "id": "FIleuCAjoFD8"
      },
      "outputs": [
        {
          "data": {
            "text/plain": [
              "'2.11.0'"
            ]
          },
          "execution_count": 20,
          "metadata": {},
          "output_type": "execute_result"
        }
      ],
      "source": [
        "tf.__version__"
      ]
    },
    {
      "cell_type": "code",
      "execution_count": 21,
      "metadata": {
        "colab": {},
        "colab_type": "code",
        "id": "0koUcJMJpEBD"
      },
      "outputs": [
        {
          "name": "stdout",
          "output_type": "stream",
          "text": [
            "Found 126 images belonging to 2 classes.\n"
          ]
        }
      ],
      "source": [
        "train_datagen = ImageDataGenerator(rescale = 1./255,\n",
        "                                   shear_range = 0.2,\n",
        "                                   zoom_range = 0.2,\n",
        "                                   horizontal_flip = True)\n",
        "training_set = train_datagen.flow_from_directory('SHINGLES/Train',\n",
        "                                                 target_size = (64, 64),\n",
        "                                                 batch_size = 32,\n",
        "                                                 class_mode = 'binary')"
      ]
    },
    {
      "cell_type": "code",
      "execution_count": 22,
      "metadata": {
        "colab": {},
        "colab_type": "code",
        "id": "SH4WzfOhpKc3"
      },
      "outputs": [
        {
          "name": "stdout",
          "output_type": "stream",
          "text": [
            "Found 21 images belonging to 2 classes.\n"
          ]
        }
      ],
      "source": [
        "test_datagen = ImageDataGenerator(rescale = 1./255)\n",
        "test_set = test_datagen.flow_from_directory('SHINGLES/Test',\n",
        "                                            target_size = (64, 64),\n",
        "                                            batch_size = 32,\n",
        "                                            class_mode = 'binary')"
      ]
    },
    {
      "cell_type": "code",
      "execution_count": 23,
      "metadata": {
        "colab": {},
        "colab_type": "code",
        "id": "SAUt4UMPlhLS"
      },
      "outputs": [],
      "source": [
        "cnn = tf.keras.models.Sequential()"
      ]
    },
    {
      "cell_type": "code",
      "execution_count": 24,
      "metadata": {
        "colab": {},
        "colab_type": "code",
        "id": "XPzPrMckl-hV"
      },
      "outputs": [],
      "source": [
        "cnn.add(tf.keras.layers.Conv2D(filters=32, kernel_size=3, activation='relu', input_shape=[64, 64, 3]))"
      ]
    },
    {
      "cell_type": "code",
      "execution_count": 25,
      "metadata": {
        "colab": {},
        "colab_type": "code",
        "id": "ncpqPl69mOac"
      },
      "outputs": [],
      "source": [
        "cnn.add(tf.keras.layers.MaxPool2D(pool_size=2, strides=2))"
      ]
    },
    {
      "cell_type": "code",
      "execution_count": 26,
      "metadata": {
        "colab": {},
        "colab_type": "code",
        "id": "i_-FZjn_m8gk"
      },
      "outputs": [],
      "source": [
        "cnn.add(tf.keras.layers.Conv2D(filters=32, kernel_size=3, activation='relu'))\n",
        "cnn.add(tf.keras.layers.MaxPool2D(pool_size=2, strides=2))"
      ]
    },
    {
      "cell_type": "code",
      "execution_count": 27,
      "metadata": {
        "colab": {},
        "colab_type": "code",
        "id": "6AZeOGCvnNZn"
      },
      "outputs": [],
      "source": [
        "cnn.add(tf.keras.layers.Flatten())"
      ]
    },
    {
      "cell_type": "code",
      "execution_count": 28,
      "metadata": {
        "colab": {},
        "colab_type": "code",
        "id": "8GtmUlLd26Nq"
      },
      "outputs": [],
      "source": [
        "cnn.add(tf.keras.layers.Dense(units=128, activation='relu'))"
      ]
    },
    {
      "cell_type": "code",
      "execution_count": 29,
      "metadata": {
        "colab": {},
        "colab_type": "code",
        "id": "1p_Zj1Mc3Ko_"
      },
      "outputs": [],
      "source": [
        "cnn.add(tf.keras.layers.Dense(units=1, activation='sigmoid'))"
      ]
    },
    {
      "cell_type": "code",
      "execution_count": 30,
      "metadata": {
        "colab": {},
        "colab_type": "code",
        "id": "NALksrNQpUlJ"
      },
      "outputs": [],
      "source": [
        "cnn.compile(optimizer = 'adam', loss = 'binary_crossentropy', metrics = ['accuracy'])"
      ]
    },
    {
      "cell_type": "code",
      "execution_count": 31,
      "metadata": {
        "colab": {},
        "colab_type": "code",
        "id": "XUj1W4PJptta"
      },
      "outputs": [
        {
          "name": "stdout",
          "output_type": "stream",
          "text": [
            "Epoch 1/25\n",
            "4/4 [==============================] - 2s 290ms/step - loss: 0.7310 - accuracy: 0.6746 - val_loss: 0.7216 - val_accuracy: 0.5238\n",
            "Epoch 2/25\n",
            "4/4 [==============================] - 1s 221ms/step - loss: 0.5572 - accuracy: 0.7619 - val_loss: 0.9324 - val_accuracy: 0.5238\n",
            "Epoch 3/25\n",
            "4/4 [==============================] - 1s 160ms/step - loss: 0.5411 - accuracy: 0.7619 - val_loss: 0.7528 - val_accuracy: 0.5238\n",
            "Epoch 4/25\n",
            "4/4 [==============================] - 1s 163ms/step - loss: 0.5046 - accuracy: 0.7619 - val_loss: 0.6992 - val_accuracy: 0.5238\n",
            "Epoch 5/25\n",
            "4/4 [==============================] - 1s 150ms/step - loss: 0.4793 - accuracy: 0.7619 - val_loss: 0.6914 - val_accuracy: 0.5238\n",
            "Epoch 6/25\n",
            "4/4 [==============================] - 1s 134ms/step - loss: 0.4173 - accuracy: 0.7619 - val_loss: 0.7390 - val_accuracy: 0.5238\n",
            "Epoch 7/25\n",
            "4/4 [==============================] - 1s 166ms/step - loss: 0.3752 - accuracy: 0.7619 - val_loss: 1.1411 - val_accuracy: 0.5238\n",
            "Epoch 8/25\n",
            "4/4 [==============================] - 1s 169ms/step - loss: 0.4059 - accuracy: 0.7619 - val_loss: 0.8139 - val_accuracy: 0.5238\n",
            "Epoch 9/25\n",
            "4/4 [==============================] - 1s 216ms/step - loss: 0.3638 - accuracy: 0.7619 - val_loss: 0.7567 - val_accuracy: 0.5238\n",
            "Epoch 10/25\n",
            "4/4 [==============================] - 1s 218ms/step - loss: 0.3760 - accuracy: 0.7619 - val_loss: 1.1984 - val_accuracy: 0.5238\n",
            "Epoch 11/25\n",
            "4/4 [==============================] - 1s 191ms/step - loss: 0.4075 - accuracy: 0.8095 - val_loss: 0.7108 - val_accuracy: 0.6190\n",
            "Epoch 12/25\n",
            "4/4 [==============================] - 1s 178ms/step - loss: 0.4165 - accuracy: 0.7698 - val_loss: 0.7874 - val_accuracy: 0.5238\n",
            "Epoch 13/25\n",
            "4/4 [==============================] - 1s 173ms/step - loss: 0.3723 - accuracy: 0.8095 - val_loss: 0.7929 - val_accuracy: 0.5238\n",
            "Epoch 14/25\n",
            "4/4 [==============================] - 1s 219ms/step - loss: 0.3773 - accuracy: 0.7698 - val_loss: 0.8017 - val_accuracy: 0.7143\n",
            "Epoch 15/25\n",
            "4/4 [==============================] - 1s 221ms/step - loss: 0.3368 - accuracy: 0.8492 - val_loss: 1.3819 - val_accuracy: 0.5238\n",
            "Epoch 16/25\n",
            "4/4 [==============================] - 1s 163ms/step - loss: 0.3533 - accuracy: 0.8413 - val_loss: 0.8299 - val_accuracy: 0.5238\n",
            "Epoch 17/25\n",
            "4/4 [==============================] - 1s 164ms/step - loss: 0.3543 - accuracy: 0.8254 - val_loss: 0.9383 - val_accuracy: 0.6667\n",
            "Epoch 18/25\n",
            "4/4 [==============================] - 1s 160ms/step - loss: 0.3434 - accuracy: 0.8095 - val_loss: 0.8210 - val_accuracy: 0.5238\n",
            "Epoch 19/25\n",
            "4/4 [==============================] - 1s 151ms/step - loss: 0.3305 - accuracy: 0.7937 - val_loss: 0.8382 - val_accuracy: 0.7143\n",
            "Epoch 20/25\n",
            "4/4 [==============================] - 1s 168ms/step - loss: 0.3260 - accuracy: 0.8730 - val_loss: 0.8066 - val_accuracy: 0.6190\n",
            "Epoch 21/25\n",
            "4/4 [==============================] - 1s 160ms/step - loss: 0.3688 - accuracy: 0.7778 - val_loss: 0.7410 - val_accuracy: 0.6667\n",
            "Epoch 22/25\n",
            "4/4 [==============================] - 1s 166ms/step - loss: 0.3238 - accuracy: 0.8810 - val_loss: 0.8749 - val_accuracy: 0.6667\n",
            "Epoch 23/25\n",
            "4/4 [==============================] - 1s 167ms/step - loss: 0.3167 - accuracy: 0.8254 - val_loss: 0.9058 - val_accuracy: 0.7143\n",
            "Epoch 24/25\n",
            "4/4 [==============================] - 1s 189ms/step - loss: 0.3089 - accuracy: 0.8810 - val_loss: 1.0022 - val_accuracy: 0.7143\n",
            "Epoch 25/25\n",
            "4/4 [==============================] - 1s 187ms/step - loss: 0.3035 - accuracy: 0.8968 - val_loss: 1.0412 - val_accuracy: 0.7143\n"
          ]
        },
        {
          "data": {
            "text/plain": [
              "<keras.callbacks.History at 0x1be1cd3ebf0>"
            ]
          },
          "execution_count": 31,
          "metadata": {},
          "output_type": "execute_result"
        }
      ],
      "source": [
        "cnn.fit(x = training_set, validation_data = test_set, epochs = 25)"
      ]
    },
    {
      "cell_type": "code",
      "execution_count": 38,
      "metadata": {
        "colab": {},
        "colab_type": "code",
        "id": "gsSiWEJY1BPB"
      },
      "outputs": [
        {
          "name": "stdout",
          "output_type": "stream",
          "text": [
            "1/1 [==============================] - 0s 19ms/step\n"
          ]
        }
      ],
      "source": [
        "import numpy as np\n",
        "from keras.preprocessing import image\n",
        "test_image = tf.keras.utils.load_img('SHINGLES/Train/Shingles/29531.jpg', target_size = (64, 64))\n",
        "test_image = tf.keras.utils.img_to_array(test_image)\n",
        "test_image = np.expand_dims(test_image, axis = 0)\n",
        "result = cnn.predict(test_image/255)\n",
        "training_set.class_indices\n"
      ]
    }
  ],
  "metadata": {
    "colab": {
      "collapsed_sections": [],
      "name": "convolutional_neural_network.ipynb",
      "provenance": [],
      "toc_visible": true
    },
    "kernelspec": {
      "display_name": "Python 3",
      "language": "python",
      "name": "python3"
    },
    "language_info": {
      "codemirror_mode": {
        "name": "ipython",
        "version": 3
      },
      "file_extension": ".py",
      "mimetype": "text/x-python",
      "name": "python",
      "nbconvert_exporter": "python",
      "pygments_lexer": "ipython3",
      "version": "3.10.7 (tags/v3.10.7:6cc6b13, Sep  5 2022, 14:08:36) [MSC v.1933 64 bit (AMD64)]"
    },
    "vscode": {
      "interpreter": {
        "hash": "49925a85a85dac8a2dca5afbebde9d93135fdd4b812dbf89ef8044a5eedbb9bf"
      }
    }
  },
  "nbformat": 4,
  "nbformat_minor": 0
}
